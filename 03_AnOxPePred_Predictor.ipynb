{
 "cells": [
  {
   "cell_type": "code",
   "execution_count": 7,
   "metadata": {},
   "outputs": [],
   "source": [
    "# Import relevant functions\n",
    "import os\n",
    "os.environ['TF_CPP_MIN_LOG_LEVEL'] = '2'\n",
    "import AnOxPePred_funcs as AOf\n",
    "from clr import *\n",
    "import numpy as np, pandas as pd, tensorflow as tf\n",
    "import matplotlib.pyplot as plt\n",
    "from importlib import reload"
   ]
  },
  {
   "cell_type": "code",
   "execution_count": 8,
   "metadata": {},
   "outputs": [],
   "source": [
    "# Load data\n",
    "nick_name = 'Test'\n",
    "home_path = ''\n",
    "data_path = os.path.join(home_path, 'Data')\n",
    "result_path = os.path.join(home_path, 'Result')\n",
    "embedding_file = os.path.join(data_path, 'Sparse_encoding_v2.txt')\n",
    "fasta_input = os.path.join(data_path, 'Interesting_peptides.fsa') #np.array(['GIKGIIPAIILEFLEGQLQEVDNNKDAR','LNIQFNIPTPKLC'])"
   ]
  },
  {
   "cell_type": "code",
   "execution_count": 19,
   "metadata": {},
   "outputs": [],
   "source": [
    "data_df = pd.DataFrame(AOf.get_fsa_file(fasta_input), columns=['Name','Sequence'])"
   ]
  },
  {
   "cell_type": "code",
   "execution_count": 17,
   "metadata": {},
   "outputs": [
    {
     "data": {
      "text/plain": [
       "(67, 30, 20)"
      ]
     },
     "execution_count": 17,
     "metadata": {},
     "output_type": "execute_result"
    }
   ],
   "source": [
    "AOf.data_augmentation(data_df.Sequence, embedding_file).shape"
   ]
  },
  {
   "cell_type": "markdown",
   "metadata": {},
   "source": [
    "## Run prediction"
   ]
  },
  {
   "cell_type": "code",
   "execution_count": 32,
   "metadata": {},
   "outputs": [
    {
     "data": {
      "text/plain": [
       "array([[0.04635516, 0.00076723],\n",
       "       [0.68804353, 0.00743884]], dtype=float32)"
      ]
     },
     "execution_count": 32,
     "metadata": {},
     "output_type": "execute_result"
    }
   ],
   "source": [
    "AnOxPePred_model = 'model'\n",
    "tf.keras.backend.clear_session()\n",
    "del AnOxPePred_model\n",
    "\n",
    "# Load in the model and initiate it with fit (weights have to be initiated before you can load other weights on top)\n",
    "AnOxPePred_model = AOf.create_AnOxPePred_v1({'y_out': 2})\n",
    "AnOxPePred_model.fit(np.ones([2,30,5]), np.ones([2,2]), epochs=1 ,verbose=0)\n",
    "\n",
    "# Load in the correct weights from a trained model\n",
    "AnOxPePred_model.load_weights(os.path.join(result_path,'AnOxPePred_v1'))"
   ]
  },
  {
   "cell_type": "code",
   "execution_count": 71,
   "metadata": {},
   "outputs": [],
   "source": [
    "b_array = np.array(['LNIQFNIPTPKLC', 'CPFSSDDQFCLKVGV', 'FCLKVGVVHQNGKRRLALVKDNP','FCLKVGVIHQNGKRRLALVK', 'SSDDQFCLKVGVV',\n",
    "                    'KKPVSKDSPETYEEALKRFAKLLSDRKKL', 'DSPETYEEALKRFAKLLSD', 'FDVIGGTSTGGLLTAMITTPNENNRP',  \n",
    "                    'GIKGIIPAIILEFLEGQLQEVDNNKDAR'])"
   ]
  },
  {
   "cell_type": "code",
   "execution_count": 74,
   "metadata": {
    "scrolled": false
   },
   "outputs": [
    {
     "data": {
      "text/html": [
       "<div>\n",
       "<style scoped>\n",
       "    .dataframe tbody tr th:only-of-type {\n",
       "        vertical-align: middle;\n",
       "    }\n",
       "\n",
       "    .dataframe tbody tr th {\n",
       "        vertical-align: top;\n",
       "    }\n",
       "\n",
       "    .dataframe thead th {\n",
       "        text-align: right;\n",
       "    }\n",
       "</style>\n",
       "<table border=\"1\" class=\"dataframe\">\n",
       "  <thead>\n",
       "    <tr style=\"text-align: right;\">\n",
       "      <th></th>\n",
       "      <th>0</th>\n",
       "      <th>FRS</th>\n",
       "      <th>Chel</th>\n",
       "    </tr>\n",
       "  </thead>\n",
       "  <tbody>\n",
       "    <tr>\n",
       "      <th>0</th>\n",
       "      <td>LNIQFNIPTPKLC</td>\n",
       "      <td>0.688044</td>\n",
       "      <td>0.007439</td>\n",
       "    </tr>\n",
       "    <tr>\n",
       "      <th>1</th>\n",
       "      <td>CPFSSDDQFCLKVGV</td>\n",
       "      <td>0.141870</td>\n",
       "      <td>0.000306</td>\n",
       "    </tr>\n",
       "    <tr>\n",
       "      <th>2</th>\n",
       "      <td>FCLKVGVVHQNGKRRLALVKDNP</td>\n",
       "      <td>0.068368</td>\n",
       "      <td>0.004472</td>\n",
       "    </tr>\n",
       "    <tr>\n",
       "      <th>3</th>\n",
       "      <td>FCLKVGVIHQNGKRRLALVK</td>\n",
       "      <td>0.124671</td>\n",
       "      <td>0.001212</td>\n",
       "    </tr>\n",
       "    <tr>\n",
       "      <th>4</th>\n",
       "      <td>SSDDQFCLKVGVV</td>\n",
       "      <td>0.481137</td>\n",
       "      <td>0.002579</td>\n",
       "    </tr>\n",
       "    <tr>\n",
       "      <th>5</th>\n",
       "      <td>KKPVSKDSPETYEEALKRFAKLLSDRKKL</td>\n",
       "      <td>0.006618</td>\n",
       "      <td>0.000124</td>\n",
       "    </tr>\n",
       "    <tr>\n",
       "      <th>6</th>\n",
       "      <td>DSPETYEEALKRFAKLLSD</td>\n",
       "      <td>0.018130</td>\n",
       "      <td>0.000349</td>\n",
       "    </tr>\n",
       "    <tr>\n",
       "      <th>7</th>\n",
       "      <td>FDVIGGTSTGGLLTAMITTPNENNRP</td>\n",
       "      <td>0.089828</td>\n",
       "      <td>0.000726</td>\n",
       "    </tr>\n",
       "    <tr>\n",
       "      <th>8</th>\n",
       "      <td>GIKGIIPAIILEFLEGQLQEVDNNKDAR</td>\n",
       "      <td>0.046355</td>\n",
       "      <td>0.000767</td>\n",
       "    </tr>\n",
       "  </tbody>\n",
       "</table>\n",
       "</div>"
      ],
      "text/plain": [
       "                               0       FRS      Chel\n",
       "0                  LNIQFNIPTPKLC  0.688044  0.007439\n",
       "1                CPFSSDDQFCLKVGV  0.141870  0.000306\n",
       "2        FCLKVGVVHQNGKRRLALVKDNP  0.068368  0.004472\n",
       "3           FCLKVGVIHQNGKRRLALVK  0.124671  0.001212\n",
       "4                  SSDDQFCLKVGVV  0.481137  0.002579\n",
       "5  KKPVSKDSPETYEEALKRFAKLLSDRKKL  0.006618  0.000124\n",
       "6            DSPETYEEALKRFAKLLSD  0.018130  0.000349\n",
       "7     FDVIGGTSTGGLLTAMITTPNENNRP  0.089828  0.000726\n",
       "8   GIKGIIPAIILEFLEGQLQEVDNNKDAR  0.046355  0.000767"
      ]
     },
     "execution_count": 74,
     "metadata": {},
     "output_type": "execute_result"
    }
   ],
   "source": [
    "a_df = data_df.copy()\n",
    "augmented_pep = AOf.data_augmentation(b_array, embedding_file)\n",
    "a_array = AnOxPePred_model.predict(augmented_pep)\n",
    "#a_df[['FRS', 'Chelator']] = pd.DataFrame(a_array, index=a_df.index)\n",
    "#a_df.sort_values(by='FRS', ascending=False)\n",
    "pd.concat([pd.DataFrame(b_array),pd.DataFrame(a_array,columns=['FRS','Chel'])], axis=1)"
   ]
  }
 ],
 "metadata": {
  "kernelspec": {
   "display_name": "TF_env",
   "language": "python",
   "name": "tf_env"
  },
  "language_info": {
   "codemirror_mode": {
    "name": "ipython",
    "version": 3
   },
   "file_extension": ".py",
   "mimetype": "text/x-python",
   "name": "python",
   "nbconvert_exporter": "python",
   "pygments_lexer": "ipython3",
   "version": "3.6.8"
  }
 },
 "nbformat": 4,
 "nbformat_minor": 2
}
