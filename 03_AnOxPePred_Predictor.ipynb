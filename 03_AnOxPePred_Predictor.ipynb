{
 "cells": [
  {
   "cell_type": "code",
   "execution_count": null,
   "metadata": {},
   "outputs": [],
   "source": [
    "import numpy as np, pandas as pd, tensorflow as tf\n",
    "import os\n",
    "import AnOxPePred_funcs as AOf\n",
    "\n",
    "from importlib import reload"
   ]
  },
  {
   "cell_type": "markdown",
   "metadata": {},
   "source": [
    "### Load inputs"
   ]
  },
  {
   "cell_type": "code",
   "execution_count": null,
   "metadata": {},
   "outputs": [],
   "source": [
    "# Load inputs\n",
    "home_path = ''\n",
    "fasta_input = os.path.join(home_path, 'Data', 'Interesting_peptides.fsa')\n",
    "embedding_file = os.path.join(home_path, 'Data', 'One-hot_encoding.txt')\n",
    "weights_files = os.path.join(home_path, 'Result', 'AnOxPePred_v1')\n",
    "# Define output directory\n",
    "result_path = os.path.join(home_path, 'Result')"
   ]
  },
  {
   "cell_type": "markdown",
   "metadata": {},
   "source": [
    "### Initiate model"
   ]
  },
  {
   "cell_type": "code",
   "execution_count": null,
   "metadata": {},
   "outputs": [],
   "source": [
    "# Ensure there is no previous model saved\n",
    "AnOxPePred_model = 'model'\n",
    "tf.keras.backend.clear_session()\n",
    "del AnOxPePred_model\n",
    "\n",
    "# Load in the model and initiate it with fit (weights have to be initiated before you can load other weights over them)\n",
    "AnOxPePred_model = AOf.create_AnOxPePred_v1({'y_out': 2})\n",
    "AnOxPePred_model.fit(np.ones([2,30,20]), np.ones([2,2]), epochs=1 ,verbose=0)\n",
    "\n",
    "# Load in the correct weights from a trained model\n",
    "AnOxPePred_model.load_weights(weights_files)"
   ]
  },
  {
   "cell_type": "markdown",
   "metadata": {},
   "source": [
    "### Run Predictions"
   ]
  },
  {
   "cell_type": "code",
   "execution_count": null,
   "metadata": {},
   "outputs": [],
   "source": [
    "b_array = np.array(['LNIQFNIPTPKLC', 'CPFSSDDQFCLKVGV', 'FCLKVGVVHQNGKRRLALVKDNP','FCLKVGVIHQNGKRRLALVK', 'SSDDQFCLKVGVV',\n",
    "                    'KKPVSKDSPETYEEALKRFAKLLSDRKKL', 'DSPETYEEALKRFAKLLSD', 'FDVIGGTSTGGLLTAMITTPNENNRP',  \n",
    "                    'GIKGIIPAIILEFLEGQLQEVDNNKDAR', 'CCHHPLLLLLLA'])"
   ]
  },
  {
   "cell_type": "code",
   "execution_count": null,
   "metadata": {
    "scrolled": false
   },
   "outputs": [],
   "source": [
    "data_df = pd.DataFrame(AOf.get_fsa_file(fasta_input), columns=['Name','Sequence'])\n",
    "a_df = data_df.copy()\n",
    "\n",
    "augmented_pep = AOf.data_augmentation(a_df.Sequence, embedding_file) #a_df.Sequence for fasta file b_array for quick predictions\n",
    "\n",
    "\n",
    "a_array = AnOxPePred_model.predict(augmented_pep)\n",
    "\n",
    "pd.concat([a_df,pd.DataFrame(a_array,columns=['FRS','Chel'])], axis=1).sort_values(by='FRS',ascending=False)"
   ]
  }
 ],
 "metadata": {
  "kernelspec": {
   "display_name": "TF_env",
   "language": "python",
   "name": "tf_env"
  },
  "language_info": {
   "codemirror_mode": {
    "name": "ipython",
    "version": 3
   },
   "file_extension": ".py",
   "mimetype": "text/x-python",
   "name": "python",
   "nbconvert_exporter": "python",
   "pygments_lexer": "ipython3",
   "version": "3.6.8"
  }
 },
 "nbformat": 4,
 "nbformat_minor": 2
}
