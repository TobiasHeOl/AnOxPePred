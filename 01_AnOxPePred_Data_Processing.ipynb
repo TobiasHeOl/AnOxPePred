{
 "cells": [
  {
   "cell_type": "code",
   "execution_count": 1,
   "metadata": {},
   "outputs": [],
   "source": [
    "import numpy as np, pandas as pd, matplotlib.pyplot as plt, seaborn as sns\n",
    "from Bio import pairwise2\n",
    "import os\n",
    "import AnOxPePred_funcs as AOf\n",
    "from importlib import reload"
   ]
  },
  {
   "cell_type": "markdown",
   "metadata": {},
   "source": [
    "## Load in data"
   ]
  },
  {
   "cell_type": "code",
   "execution_count": 2,
   "metadata": {},
   "outputs": [],
   "source": [
    "data_path = 'Data'\n",
    "result_path = 'Result'\n",
    "AO_db = os.path.join(data_path,'01_AO_db.csv')\n",
    "AO_df = pd.read_csv(AO_db, index_col=0)"
   ]
  },
  {
   "cell_type": "code",
   "execution_count": 3,
   "metadata": {},
   "outputs": [],
   "source": [
    "AO_df = AO_df[AO_df.Sequence.apply(len) <= 30].reset_index(drop=True)"
   ]
  },
  {
   "cell_type": "code",
   "execution_count": 4,
   "metadata": {
    "scrolled": true
   },
   "outputs": [
    {
     "data": {
      "text/html": [
       "<div>\n",
       "<style scoped>\n",
       "    .dataframe tbody tr th:only-of-type {\n",
       "        vertical-align: middle;\n",
       "    }\n",
       "\n",
       "    .dataframe tbody tr th {\n",
       "        vertical-align: top;\n",
       "    }\n",
       "\n",
       "    .dataframe thead th {\n",
       "        text-align: right;\n",
       "    }\n",
       "</style>\n",
       "<table border=\"1\" class=\"dataframe\">\n",
       "  <thead>\n",
       "    <tr style=\"text-align: right;\">\n",
       "      <th></th>\n",
       "      <th>FRS</th>\n",
       "      <th>CHEL</th>\n",
       "      <th>FRS/CHEL</th>\n",
       "      <th>NON-AO</th>\n",
       "      <th>TOTAL</th>\n",
       "    </tr>\n",
       "  </thead>\n",
       "  <tbody>\n",
       "    <tr>\n",
       "      <th>AOdb</th>\n",
       "      <td>615</td>\n",
       "      <td>11</td>\n",
       "      <td>70</td>\n",
       "      <td>218</td>\n",
       "      <td>914</td>\n",
       "    </tr>\n",
       "  </tbody>\n",
       "</table>\n",
       "</div>"
      ],
      "text/plain": [
       "      FRS  CHEL  FRS/CHEL  NON-AO  TOTAL\n",
       "AOdb  615    11        70     218    914"
      ]
     },
     "execution_count": 4,
     "metadata": {},
     "output_type": "execute_result"
    }
   ],
   "source": [
    "AOf.visualize_data(AO_df, 'AOdb')"
   ]
  },
  {
   "cell_type": "markdown",
   "metadata": {},
   "source": [
    "## Pre-process data"
   ]
  },
  {
   "cell_type": "code",
   "execution_count": 5,
   "metadata": {
    "scrolled": true
   },
   "outputs": [],
   "source": [
    "AO_2_df = AOf.homology_reduction(AO_df, 0.9)"
   ]
  },
  {
   "cell_type": "code",
   "execution_count": 6,
   "metadata": {},
   "outputs": [
    {
     "data": {
      "text/html": [
       "<div>\n",
       "<style scoped>\n",
       "    .dataframe tbody tr th:only-of-type {\n",
       "        vertical-align: middle;\n",
       "    }\n",
       "\n",
       "    .dataframe tbody tr th {\n",
       "        vertical-align: top;\n",
       "    }\n",
       "\n",
       "    .dataframe thead th {\n",
       "        text-align: right;\n",
       "    }\n",
       "</style>\n",
       "<table border=\"1\" class=\"dataframe\">\n",
       "  <thead>\n",
       "    <tr style=\"text-align: right;\">\n",
       "      <th></th>\n",
       "      <th>FRS</th>\n",
       "      <th>CHEL</th>\n",
       "      <th>FRS/CHEL</th>\n",
       "      <th>NON-AO</th>\n",
       "      <th>TOTAL</th>\n",
       "    </tr>\n",
       "  </thead>\n",
       "  <tbody>\n",
       "    <tr>\n",
       "      <th>AOdb &lt;90%</th>\n",
       "      <td>606</td>\n",
       "      <td>11</td>\n",
       "      <td>70</td>\n",
       "      <td>217</td>\n",
       "      <td>904</td>\n",
       "    </tr>\n",
       "  </tbody>\n",
       "</table>\n",
       "</div>"
      ],
      "text/plain": [
       "           FRS  CHEL  FRS/CHEL  NON-AO  TOTAL\n",
       "AOdb <90%  606    11        70     217    904"
      ]
     },
     "execution_count": 6,
     "metadata": {},
     "output_type": "execute_result"
    }
   ],
   "source": [
    "AO_2_df.to_csv(os.path.join(data_path, '02_process_AO_db.csv'))\n",
    "AOf.visualize_data(AO_2_df, 'AOdb <90%')"
   ]
  },
  {
   "cell_type": "markdown",
   "metadata": {},
   "source": [
    "## Retrieve random negatives"
   ]
  },
  {
   "cell_type": "code",
   "execution_count": 7,
   "metadata": {},
   "outputs": [],
   "source": [
    "random_pep_file = os.path.join(data_path,'randompeptide30000.fsa')\n",
    "# Generate peptides\n",
    "r_df = AOf.pep_generator(AO_2_df, random_pep_file, 200)\n",
    "# Remove duplicates and peptides identical with known ones\n",
    "r_df = AOf.reduce_df(r_df, AO_2_df, 100)\n",
    "# Take out a number of random generated negatives which follows the distribution of AO_2_df\n",
    "keys, values = np.unique(AO_2_df.Sequence.apply(len).values, return_counts=True)\n",
    "my_dict = dict(zip(keys, values))\n",
    "r_df['distribution'] = r_df.Sequence.apply(lambda x: my_dict[len(x)])\n",
    "r_df = r_df.sample(n=500, weights='distribution', random_state=10).drop(['distribution'], axis=1).reset_index(drop=True)"
   ]
  },
  {
   "cell_type": "code",
   "execution_count": 8,
   "metadata": {
    "scrolled": true
   },
   "outputs": [
    {
     "data": {
      "text/html": [
       "<div>\n",
       "<style scoped>\n",
       "    .dataframe tbody tr th:only-of-type {\n",
       "        vertical-align: middle;\n",
       "    }\n",
       "\n",
       "    .dataframe tbody tr th {\n",
       "        vertical-align: top;\n",
       "    }\n",
       "\n",
       "    .dataframe thead th {\n",
       "        text-align: right;\n",
       "    }\n",
       "</style>\n",
       "<table border=\"1\" class=\"dataframe\">\n",
       "  <thead>\n",
       "    <tr style=\"text-align: right;\">\n",
       "      <th></th>\n",
       "      <th>FRS</th>\n",
       "      <th>CHEL</th>\n",
       "      <th>FRS/CHEL</th>\n",
       "      <th>NON-AO</th>\n",
       "      <th>TOTAL</th>\n",
       "    </tr>\n",
       "  </thead>\n",
       "  <tbody>\n",
       "    <tr>\n",
       "      <th>AOdb</th>\n",
       "      <td>615</td>\n",
       "      <td>11</td>\n",
       "      <td>70</td>\n",
       "      <td>218</td>\n",
       "      <td>914</td>\n",
       "    </tr>\n",
       "    <tr>\n",
       "      <th>AOdb &lt;90%</th>\n",
       "      <td>606</td>\n",
       "      <td>11</td>\n",
       "      <td>70</td>\n",
       "      <td>217</td>\n",
       "      <td>904</td>\n",
       "    </tr>\n",
       "    <tr>\n",
       "      <th>Random</th>\n",
       "      <td>0</td>\n",
       "      <td>0</td>\n",
       "      <td>0</td>\n",
       "      <td>500</td>\n",
       "      <td>500</td>\n",
       "    </tr>\n",
       "  </tbody>\n",
       "</table>\n",
       "</div>"
      ],
      "text/plain": [
       "           FRS  CHEL  FRS/CHEL  NON-AO  TOTAL\n",
       "AOdb       615    11        70     218    914\n",
       "AOdb <90%  606    11        70     217    904\n",
       "Random       0     0         0     500    500"
      ]
     },
     "execution_count": 8,
     "metadata": {},
     "output_type": "execute_result"
    }
   ],
   "source": [
    "t1 = AOf.visualize_data(AO_df, 'AOdb')\n",
    "t2 = AOf.visualize_data(AO_2_df, 'AOdb <90%')\n",
    "t3 = AOf.visualize_data(r_df, 'Random')\n",
    "pd.concat([t1,t2,t3])"
   ]
  },
  {
   "cell_type": "code",
   "execution_count": 9,
   "metadata": {},
   "outputs": [],
   "source": [
    "r_df.to_csv(os.path.join(data_path, '02_random_AO_db.csv'))"
   ]
  },
  {
   "cell_type": "markdown",
   "metadata": {},
   "source": [
    "## Partition data into folds"
   ]
  },
  {
   "cell_type": "code",
   "execution_count": 10,
   "metadata": {
    "scrolled": true
   },
   "outputs": [],
   "source": [
    "reload(AOf)\n",
    "t_df = pd.read_csv(os.path.join(data_path,'02_process_AO_db.csv'), index_col=0)\n",
    "r_df = pd.read_csv(os.path.join(data_path,'02_random_AO_db.csv'), index_col=0)\n",
    "data_df = pd.concat([t_df, r_df], sort=False).reset_index(drop=True)\n",
    "hom_part60, gr60_nr = AOf.homology_partition(data_df['Sequence'], ident=0.6, parts=5)\n",
    "hom_part70, gr70_nr = AOf.homology_partition(data_df['Sequence'], ident=0.7, parts=5)\n",
    "hom_part80, gr80_nr = AOf.homology_partition(data_df['Sequence'], ident=0.8, parts=5)\n",
    "hom_part90, gr90_nr = AOf.homology_partition(data_df['Sequence'], ident=0.9, parts=5)"
   ]
  },
  {
   "cell_type": "code",
   "execution_count": 11,
   "metadata": {},
   "outputs": [
    {
     "data": {
      "text/html": [
       "<div>\n",
       "<style scoped>\n",
       "    .dataframe tbody tr th:only-of-type {\n",
       "        vertical-align: middle;\n",
       "    }\n",
       "\n",
       "    .dataframe tbody tr th {\n",
       "        vertical-align: top;\n",
       "    }\n",
       "\n",
       "    .dataframe thead th {\n",
       "        text-align: right;\n",
       "    }\n",
       "</style>\n",
       "<table border=\"1\" class=\"dataframe\">\n",
       "  <thead>\n",
       "    <tr style=\"text-align: right;\">\n",
       "      <th></th>\n",
       "      <th>Sum_P1</th>\n",
       "      <th>Sum_P2</th>\n",
       "      <th>Sum_P3</th>\n",
       "      <th>Sum_P4</th>\n",
       "      <th>Sum_P5</th>\n",
       "      <th>chel_P1</th>\n",
       "      <th>chel_P2</th>\n",
       "      <th>chel_P3</th>\n",
       "      <th>chel_P4</th>\n",
       "      <th>chel_P5</th>\n",
       "      <th>frs_P1</th>\n",
       "      <th>frs_P2</th>\n",
       "      <th>frs_P3</th>\n",
       "      <th>frs_P4</th>\n",
       "      <th>frs_P5</th>\n",
       "    </tr>\n",
       "  </thead>\n",
       "  <tbody>\n",
       "    <tr>\n",
       "      <th>60</th>\n",
       "      <td>701</td>\n",
       "      <td>179</td>\n",
       "      <td>177</td>\n",
       "      <td>174</td>\n",
       "      <td>173</td>\n",
       "      <td>45</td>\n",
       "      <td>6</td>\n",
       "      <td>10</td>\n",
       "      <td>9</td>\n",
       "      <td>11</td>\n",
       "      <td>367</td>\n",
       "      <td>82</td>\n",
       "      <td>78</td>\n",
       "      <td>75</td>\n",
       "      <td>74</td>\n",
       "    </tr>\n",
       "    <tr>\n",
       "      <th>70</th>\n",
       "      <td>281</td>\n",
       "      <td>281</td>\n",
       "      <td>281</td>\n",
       "      <td>281</td>\n",
       "      <td>280</td>\n",
       "      <td>24</td>\n",
       "      <td>14</td>\n",
       "      <td>16</td>\n",
       "      <td>16</td>\n",
       "      <td>11</td>\n",
       "      <td>149</td>\n",
       "      <td>141</td>\n",
       "      <td>126</td>\n",
       "      <td>129</td>\n",
       "      <td>131</td>\n",
       "    </tr>\n",
       "    <tr>\n",
       "      <th>80</th>\n",
       "      <td>281</td>\n",
       "      <td>281</td>\n",
       "      <td>281</td>\n",
       "      <td>281</td>\n",
       "      <td>280</td>\n",
       "      <td>19</td>\n",
       "      <td>16</td>\n",
       "      <td>14</td>\n",
       "      <td>16</td>\n",
       "      <td>16</td>\n",
       "      <td>139</td>\n",
       "      <td>138</td>\n",
       "      <td>134</td>\n",
       "      <td>132</td>\n",
       "      <td>133</td>\n",
       "    </tr>\n",
       "    <tr>\n",
       "      <th>90</th>\n",
       "      <td>281</td>\n",
       "      <td>281</td>\n",
       "      <td>281</td>\n",
       "      <td>281</td>\n",
       "      <td>280</td>\n",
       "      <td>16</td>\n",
       "      <td>17</td>\n",
       "      <td>16</td>\n",
       "      <td>16</td>\n",
       "      <td>16</td>\n",
       "      <td>136</td>\n",
       "      <td>135</td>\n",
       "      <td>135</td>\n",
       "      <td>135</td>\n",
       "      <td>135</td>\n",
       "    </tr>\n",
       "  </tbody>\n",
       "</table>\n",
       "</div>"
      ],
      "text/plain": [
       "    Sum_P1  Sum_P2  Sum_P3  Sum_P4  Sum_P5  chel_P1  chel_P2  chel_P3  \\\n",
       "60     701     179     177     174     173       45        6       10   \n",
       "70     281     281     281     281     280       24       14       16   \n",
       "80     281     281     281     281     280       19       16       14   \n",
       "90     281     281     281     281     280       16       17       16   \n",
       "\n",
       "    chel_P4  chel_P5  frs_P1  frs_P2  frs_P3  frs_P4  frs_P5  \n",
       "60        9       11     367      82      78      75      74  \n",
       "70       16       11     149     141     126     129     131  \n",
       "80       16       16     139     138     134     132     133  \n",
       "90       16       16     136     135     135     135     135  "
      ]
     },
     "execution_count": 11,
     "metadata": {},
     "output_type": "execute_result"
    }
   ],
   "source": [
    "AO_overview = AOf.hc_part_visualizer(data_df, [hom_part60,hom_part70,hom_part80, hom_part90], [60, 70, 80, 90])\n",
    "AO_overview"
   ]
  },
  {
   "cell_type": "code",
   "execution_count": 12,
   "metadata": {
    "scrolled": true
   },
   "outputs": [
    {
     "data": {
      "text/html": [
       "<div>\n",
       "<style scoped>\n",
       "    .dataframe tbody tr th:only-of-type {\n",
       "        vertical-align: middle;\n",
       "    }\n",
       "\n",
       "    .dataframe tbody tr th {\n",
       "        vertical-align: top;\n",
       "    }\n",
       "\n",
       "    .dataframe thead th {\n",
       "        text-align: right;\n",
       "    }\n",
       "</style>\n",
       "<table border=\"1\" class=\"dataframe\">\n",
       "  <thead>\n",
       "    <tr style=\"text-align: right;\">\n",
       "      <th></th>\n",
       "      <th>AO_p60</th>\n",
       "      <th>AO_p70</th>\n",
       "      <th>AO_p80</th>\n",
       "      <th>AO_p90</th>\n",
       "    </tr>\n",
       "  </thead>\n",
       "  <tbody>\n",
       "    <tr>\n",
       "      <th>Clusters</th>\n",
       "      <td>621.000000</td>\n",
       "      <td>1271.00000</td>\n",
       "      <td>1351.000000</td>\n",
       "      <td>1404.000000</td>\n",
       "    </tr>\n",
       "    <tr>\n",
       "      <th>Gini</th>\n",
       "      <td>0.350888</td>\n",
       "      <td>0.03432</td>\n",
       "      <td>0.011243</td>\n",
       "      <td>0.001183</td>\n",
       "    </tr>\n",
       "  </tbody>\n",
       "</table>\n",
       "</div>"
      ],
      "text/plain": [
       "              AO_p60      AO_p70       AO_p80       AO_p90\n",
       "Clusters  621.000000  1271.00000  1351.000000  1404.000000\n",
       "Gini        0.350888     0.03432     0.011243     0.001183"
      ]
     },
     "execution_count": 12,
     "metadata": {},
     "output_type": "execute_result"
    }
   ],
   "source": [
    "Data_info = pd.DataFrame([[gr60_nr,gr70_nr,gr80_nr,gr90_nr], \n",
    "              AO_overview.iloc[:,10:15].T.apply(AOf.gini).values], \n",
    "             columns=['AO_p60','AO_p70','AO_p80','AO_p90'], \n",
    "             index=['Clusters','Gini'])\n",
    "\n",
    "Data_info.to_csv(os.path.join(result_path,'03_Data_Info.csv'))\n",
    "Data_info"
   ]
  },
  {
   "cell_type": "code",
   "execution_count": 13,
   "metadata": {},
   "outputs": [],
   "source": [
    "full_df = data_df.copy()\n",
    "full_df['partition'] = full_df.apply(lambda x: [num for num, val in enumerate(hom_part60) if x.name in val][0], axis=1)\n",
    "full_df.to_csv(os.path.join(data_path, '03_p60_AO_db.csv'))\n",
    "full_df = data_df.copy()\n",
    "full_df['partition'] = full_df.apply(lambda x: [num for num, val in enumerate(hom_part70) if x.name in val][0], axis=1)\n",
    "full_df.to_csv(os.path.join(data_path, '03_p70_AO_db.csv'))\n",
    "full_df = data_df.copy()\n",
    "full_df['partition'] = full_df.apply(lambda x: [num for num, val in enumerate(hom_part80) if x.name in val][0], axis=1)\n",
    "full_df.to_csv(os.path.join(data_path, '03_p80_AO_db.csv'))\n",
    "full_df = data_df.copy()\n",
    "full_df['partition'] = full_df.apply(lambda x: [num for num, val in enumerate(hom_part90) if x.name in val][0], axis=1)\n",
    "full_df.to_csv(os.path.join(data_path, '03_p90_AO_db.csv'))"
   ]
  }
 ],
 "metadata": {
  "kernelspec": {
   "display_name": "TF_env",
   "language": "python",
   "name": "tf_env"
  },
  "language_info": {
   "codemirror_mode": {
    "name": "ipython",
    "version": 3
   },
   "file_extension": ".py",
   "mimetype": "text/x-python",
   "name": "python",
   "nbconvert_exporter": "python",
   "pygments_lexer": "ipython3",
   "version": "3.6.8"
  }
 },
 "nbformat": 4,
 "nbformat_minor": 2
}
