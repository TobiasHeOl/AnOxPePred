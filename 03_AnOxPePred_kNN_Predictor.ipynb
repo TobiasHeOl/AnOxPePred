{
 "cells": [
  {
   "cell_type": "code",
   "execution_count": 1,
   "metadata": {},
   "outputs": [],
   "source": [
    "import numpy as np, pandas as pd\n",
    "import os\n",
    "import AnOxPePred_funcs as AOf\n",
    "from importlib import reload"
   ]
  },
  {
   "cell_type": "markdown",
   "metadata": {},
   "source": [
    "## Load in the partitions"
   ]
  },
  {
   "cell_type": "code",
   "execution_count": 2,
   "metadata": {},
   "outputs": [],
   "source": [
    "data_path = 'Data'\n",
    "result_path = 'Result'\n",
    "AO_p60 = pd.read_csv(os.path.join(data_path, '03_p60_AO_db.csv'), index_col=0)\n",
    "AO_p70 = pd.read_csv(os.path.join(data_path, '03_p70_AO_db.csv'), index_col=0)\n",
    "AO_p80 = pd.read_csv(os.path.join(data_path, '03_p80_AO_db.csv'), index_col=0)\n",
    "AO_p90 = pd.read_csv(os.path.join(data_path, '03_p90_AO_db.csv'), index_col=0)"
   ]
  },
  {
   "cell_type": "markdown",
   "metadata": {},
   "source": [
    "## Use k-NN to predict antioxidant activity\n",
    "\n",
    "Decide which k value to use (default k=5). \n",
    "k is the number of most identical sequences used to predict with."
   ]
  },
  {
   "cell_type": "code",
   "execution_count": 3,
   "metadata": {},
   "outputs": [],
   "source": [
    "reload(AOf)\n",
    "AO_p60[['Pred_FRS','Pred_Chel']] = AO_p60.apply(lambda x: AOf.kNN_pred(x, AO_p60, k=5), axis=1)\n",
    "AO_p70[['Pred_FRS','Pred_Chel']] = AO_p70.apply(lambda x: AOf.kNN_pred(x, AO_p70, k=5), axis=1)\n",
    "AO_p80[['Pred_FRS','Pred_Chel']] = AO_p80.apply(lambda x: AOf.kNN_pred(x, AO_p80, k=5), axis=1)\n",
    "AO_p90[['Pred_FRS','Pred_Chel']] = AO_p90.apply(lambda x: AOf.kNN_pred(x, AO_p90, k=5), axis=1)"
   ]
  },
  {
   "cell_type": "markdown",
   "metadata": {},
   "source": [
    "## Performance\n",
    "\n",
    "Different metrics (Matthew's Correlation Coefficient (MCC), F1 Score (F1) and Area Under a Curve (AUC)) are used to measure k-NNs performance. Custom metrics are calculated with a threshold (the ones to the right) optimized for MCC, while 0.5 metrics use 0.5 as threshold."
   ]
  },
  {
   "cell_type": "code",
   "execution_count": 4,
   "metadata": {
    "scrolled": true
   },
   "outputs": [
    {
     "data": {
      "text/html": [
       "<div>\n",
       "<style scoped>\n",
       "    .dataframe tbody tr th:only-of-type {\n",
       "        vertical-align: middle;\n",
       "    }\n",
       "\n",
       "    .dataframe tbody tr th {\n",
       "        vertical-align: top;\n",
       "    }\n",
       "\n",
       "    .dataframe thead th {\n",
       "        text-align: right;\n",
       "    }\n",
       "</style>\n",
       "<table border=\"1\" class=\"dataframe\">\n",
       "  <thead>\n",
       "    <tr style=\"text-align: right;\">\n",
       "      <th></th>\n",
       "      <th>0.5_AUC</th>\n",
       "      <th>0.5_F1</th>\n",
       "      <th>0.5_MCC</th>\n",
       "      <th>0.5_AUC</th>\n",
       "      <th>0.5_F1</th>\n",
       "      <th>0.5_MCC</th>\n",
       "      <th>custom_AUC</th>\n",
       "      <th>custom_F1</th>\n",
       "      <th>custom_MCC</th>\n",
       "      <th>custom_AUC</th>\n",
       "      <th>custom_F1</th>\n",
       "      <th>custom_MCC</th>\n",
       "      <th>FRS_Threshold</th>\n",
       "      <th>CHEL_Threshold</th>\n",
       "    </tr>\n",
       "  </thead>\n",
       "  <tbody>\n",
       "    <tr>\n",
       "      <th>AO_p60</th>\n",
       "      <td>0.644364</td>\n",
       "      <td>0.576983</td>\n",
       "      <td>0.222286</td>\n",
       "      <td>0.541614</td>\n",
       "      <td>0.000000</td>\n",
       "      <td>-0.020957</td>\n",
       "      <td>0.644364</td>\n",
       "      <td>0.576983</td>\n",
       "      <td>0.222286</td>\n",
       "      <td>0.541614</td>\n",
       "      <td>0.101449</td>\n",
       "      <td>0.057448</td>\n",
       "      <td>0.556</td>\n",
       "      <td>0.270</td>\n",
       "    </tr>\n",
       "    <tr>\n",
       "      <th>AO_p70</th>\n",
       "      <td>0.747570</td>\n",
       "      <td>0.671024</td>\n",
       "      <td>0.354892</td>\n",
       "      <td>0.647565</td>\n",
       "      <td>0.061224</td>\n",
       "      <td>0.056399</td>\n",
       "      <td>0.747570</td>\n",
       "      <td>0.671024</td>\n",
       "      <td>0.354892</td>\n",
       "      <td>0.647565</td>\n",
       "      <td>0.216216</td>\n",
       "      <td>0.173887</td>\n",
       "      <td>0.556</td>\n",
       "      <td>0.272</td>\n",
       "    </tr>\n",
       "    <tr>\n",
       "      <th>AO_p80</th>\n",
       "      <td>0.758959</td>\n",
       "      <td>0.691466</td>\n",
       "      <td>0.397359</td>\n",
       "      <td>0.723253</td>\n",
       "      <td>0.201835</td>\n",
       "      <td>0.205056</td>\n",
       "      <td>0.758959</td>\n",
       "      <td>0.691466</td>\n",
       "      <td>0.397359</td>\n",
       "      <td>0.723253</td>\n",
       "      <td>0.306818</td>\n",
       "      <td>0.261722</td>\n",
       "      <td>0.556</td>\n",
       "      <td>0.248</td>\n",
       "    </tr>\n",
       "    <tr>\n",
       "      <th>AO_p90</th>\n",
       "      <td>0.778446</td>\n",
       "      <td>0.709025</td>\n",
       "      <td>0.426609</td>\n",
       "      <td>0.763463</td>\n",
       "      <td>0.277778</td>\n",
       "      <td>0.298999</td>\n",
       "      <td>0.778446</td>\n",
       "      <td>0.629032</td>\n",
       "      <td>0.427603</td>\n",
       "      <td>0.763463</td>\n",
       "      <td>0.377143</td>\n",
       "      <td>0.337047</td>\n",
       "      <td>0.732</td>\n",
       "      <td>0.288</td>\n",
       "    </tr>\n",
       "  </tbody>\n",
       "</table>\n",
       "</div>"
      ],
      "text/plain": [
       "         0.5_AUC    0.5_F1   0.5_MCC   0.5_AUC    0.5_F1   0.5_MCC  \\\n",
       "AO_p60  0.644364  0.576983  0.222286  0.541614  0.000000 -0.020957   \n",
       "AO_p70  0.747570  0.671024  0.354892  0.647565  0.061224  0.056399   \n",
       "AO_p80  0.758959  0.691466  0.397359  0.723253  0.201835  0.205056   \n",
       "AO_p90  0.778446  0.709025  0.426609  0.763463  0.277778  0.298999   \n",
       "\n",
       "        custom_AUC  custom_F1  custom_MCC  custom_AUC  custom_F1  custom_MCC  \\\n",
       "AO_p60    0.644364   0.576983    0.222286    0.541614   0.101449    0.057448   \n",
       "AO_p70    0.747570   0.671024    0.354892    0.647565   0.216216    0.173887   \n",
       "AO_p80    0.758959   0.691466    0.397359    0.723253   0.306818    0.261722   \n",
       "AO_p90    0.778446   0.629032    0.427603    0.763463   0.377143    0.337047   \n",
       "\n",
       "        FRS_Threshold  CHEL_Threshold  \n",
       "AO_p60          0.556           0.270  \n",
       "AO_p70          0.556           0.272  \n",
       "AO_p80          0.556           0.248  \n",
       "AO_p90          0.732           0.288  "
      ]
     },
     "execution_count": 4,
     "metadata": {},
     "output_type": "execute_result"
    }
   ],
   "source": [
    "y_label, y_pred = AO_p60.loc[:,['FRS','Chelator']].values, AO_p60.loc[:,['Pred_FRS','Pred_Chel']].values\n",
    "AO_p60_metrics = AOf.calc_metrics(y_label, y_pred, idx='AO_p60')\n",
    "y_label, y_pred = AO_p70.loc[:,['FRS','Chelator']].values, AO_p70.loc[:,['Pred_FRS','Pred_Chel']].values\n",
    "AO_p70_metrics = AOf.calc_metrics(y_label, y_pred, idx='AO_p70')\n",
    "y_label, y_pred = AO_p80.loc[:,['FRS','Chelator']].values, AO_p80.loc[:,['Pred_FRS','Pred_Chel']].values\n",
    "AO_p80_metrics = AOf.calc_metrics(y_label, y_pred, idx='AO_p80')\n",
    "y_label, y_pred = AO_p90.loc[:,['FRS','Chelator']].values, AO_p90.loc[:,['Pred_FRS','Pred_Chel']].values\n",
    "AO_p90_metrics = AOf.calc_metrics(y_label, y_pred, idx='AO_p90')\n",
    "\n",
    "kNN_result = pd.concat([AO_p60_metrics,AO_p70_metrics,AO_p80_metrics,AO_p90_metrics], axis=0)\n",
    "kNN_result"
   ]
  },
  {
   "cell_type": "code",
   "execution_count": 5,
   "metadata": {},
   "outputs": [],
   "source": [
    "kNN_result.to_csv(os.path.join(result_path, '04_kNN_results.csv'))"
   ]
  }
 ],
 "metadata": {
  "kernelspec": {
   "display_name": "TF_env",
   "language": "python",
   "name": "tf_env"
  },
  "language_info": {
   "codemirror_mode": {
    "name": "ipython",
    "version": 3
   },
   "file_extension": ".py",
   "mimetype": "text/x-python",
   "name": "python",
   "nbconvert_exporter": "python",
   "pygments_lexer": "ipython3",
   "version": "3.6.8"
  }
 },
 "nbformat": 4,
 "nbformat_minor": 2
}
